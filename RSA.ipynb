{
 "cells": [
  {
   "cell_type": "markdown",
   "metadata": {},
   "source": [
    "# Utilities"
   ]
  },
  {
   "cell_type": "code",
   "execution_count": 1,
   "metadata": {},
   "outputs": [
    {
     "name": "stdout",
     "output_type": "stream",
     "text": [
      "Number Theory\n"
     ]
    }
   ],
   "source": [
    "import sys, threading\n",
    "\n",
    "sys.setrecursionlimit(10**7)\n",
    "threading.stack_size(2**27)\n",
    "\n",
    "def ConvertToInt(message_str: str) -> int:\n",
    "  res = 0\n",
    "  for i in range(len(message_str)):\n",
    "    res = res * 256 + ord(message_str[i])\n",
    "  return res\n",
    "\n",
    "def ConvertToStr(n: int) -> str:\n",
    "    res = \"\"\n",
    "    while n > 0:\n",
    "        res += chr(n % 256)\n",
    "        n //= 256\n",
    "    return res[::-1]\n",
    "\n",
    "print(ConvertToStr(ConvertToInt('Number Theory'))) # to test the code\n"
   ]
  },
  {
   "cell_type": "markdown",
   "metadata": {},
   "source": [
    "# Mathimatical Functions:"
   ]
  },
  {
   "cell_type": "code",
   "execution_count": 2,
   "metadata": {},
   "outputs": [],
   "source": [
    "def GCD(a:int, b:int) -> int:\n",
    "  if b == 0:\n",
    "    return a\n",
    "  return GCD(b, a % b)\n",
    "\n",
    "def ExtendedEuclid(a:int, b:int) -> tuple[int, int]:\n",
    "    if b == 0:\n",
    "        return (1, 0)\n",
    "    (x, y) = ExtendedEuclid(b, a % b)\n",
    "    k = a // b\n",
    "    return (y, x - k * y)\n",
    "\n",
    "def PowMod(a:int, n:int, mod:int) -> int:\n",
    "    \"\"\"\n",
    "    This is an R2L recursive implementation that works for large integers\n",
    "    \"\"\"\n",
    "    if n == 0:\n",
    "        return 1 % mod\n",
    "    elif n == 1:\n",
    "        return a % mod\n",
    "    else:\n",
    "        b = PowMod(a, n // 2, mod)\n",
    "        b = b * b % mod\n",
    "        if n % 2 == 0:\n",
    "          return b\n",
    "        else:\n",
    "          return b * a % mod\n",
    "\n",
    "def InvertModulo(a: int, n: int) -> int:\n",
    "    (b, _) = ExtendedEuclid(a, n)\n",
    "    if b < 0:\n",
    "        b = (b % n + n) % n # as we don't want -ve integers\n",
    "    return b\n",
    "\n",
    "def chineseRemainderTheorem(n1: int, r1: int, n2: int, r2: int) -> int:\n",
    "    \"\"\"\n",
    "    Uses ExtendedEuclid to find inverses\n",
    "    \"\"\"\n",
    "    (x, y) = ExtendedEuclid(n1, n2)\n",
    "    m = n1 * n2\n",
    "    n = r2 * x * n1 + r1 * y * n2\n",
    "    return (n % m + m) % m\n"
   ]
  },
  {
   "cell_type": "markdown",
   "metadata": {},
   "source": [
    "# Question 1, simple attack"
   ]
  },
  {
   "cell_type": "code",
   "execution_count": 3,
   "metadata": {},
   "outputs": [
    {
     "name": "stdout",
     "output_type": "stream",
     "text": [
      "attack\n"
     ]
    }
   ],
   "source": [
    "def Encrypt(m, n, e):\n",
    "    return PowMod(ConvertToInt(m), e, n)\n",
    "    \n",
    "def Decrypt(c, p, q, e): \n",
    "  phi = (p-1)*(q-1)\n",
    "  d = InvertModulo(e, phi)\n",
    "  return ConvertToStr(PowMod(c, d, p * q )) \n",
    "  \n",
    "\n",
    "# question \n",
    "p = 1000000007\n",
    "q = 1000000009\n",
    "exponent = 23917\n",
    "modulo = p * q\n",
    "ciphertext = Encrypt(\"attack\", modulo, exponent)\n",
    "message = Decrypt(ciphertext, p, q, exponent)\n",
    "print(message)"
   ]
  },
  {
   "cell_type": "markdown",
   "metadata": {},
   "source": [
    "# Question 2, small primes"
   ]
  },
  {
   "cell_type": "code",
   "execution_count": 4,
   "metadata": {},
   "outputs": [
    {
     "name": "stdout",
     "output_type": "stream",
     "text": [
      "attack\n"
     ]
    }
   ],
   "source": [
    "def DecipherSimple(c, n, e, potential_messages):\n",
    "  for i in range(len(potential_messages)):\n",
    "    if c == Encrypt(potential_messages[i], n, e):\n",
    "      return potential_messages[i]\n",
    "  return \"Failed to decrypt the message\"\n",
    "\n",
    "# question \n",
    "modulo = 101\n",
    "exponent = 12\n",
    "ciphertext = Encrypt(\"attack\", modulo, exponent)\n",
    "print(DecipherSimple(ciphertext, modulo, exponent, [\"attack\", \"don't attack\", \"wait\"]))"
   ]
  },
  {
   "cell_type": "markdown",
   "metadata": {},
   "source": [
    "# Question 3, small difference between p and q"
   ]
  },
  {
   "cell_type": "code",
   "execution_count": 5,
   "metadata": {},
   "outputs": [
    {
     "name": "stdout",
     "output_type": "stream",
     "text": [
      "attack\n"
     ]
    }
   ],
   "source": [
    "LIMIT = 1000000\n",
    "def DecipherSmallPrime(c, n, e):\n",
    "  if n % 2 == 0:\n",
    "    smallerPrime = 2\n",
    "    biggerPrime = n // 2\n",
    "    return Decrypt(c, smallerPrime, biggerPrime, e) \n",
    "  # try all prime up to LIMIT as divisor of the public key n\n",
    "  for i in range(3, LIMIT, 2):\n",
    "    if n % i == 0:\n",
    "      smallerPrime = i\n",
    "      biggerPrime = n // i\n",
    "    # factorize n and decrypt the cipher\n",
    "      return Decrypt(c, smallerPrime, biggerPrime, e) \n",
    "  return \"Failed to decrypt the message\"\n",
    "  \n",
    "# question \n",
    "modulo = 101 * 18298970732541109011012304219376080251334480295537316123696052970419466495220522723330315111017831737980079504337868198011077274303193766040393009648852841770668239779097280026631944319501437547002412556176186750790476901358334138818777298389724049250700606462316428106882097210008142941838672676714188593227684360287806974345181893018133710957167334490627178666071809992955566020058374505477745993383434501768887090900283569055646901291270870833498474402084748161755197005050874785474707550376333429671113753137201128897550014524209754619355308207537703754006699795711188492048286436285518105948050401762394690148387\n",
    "exponent = 239\n",
    "ciphertext = Encrypt(\"attack\", modulo, exponent)\n",
    "print(DecipherSmallPrime(ciphertext, modulo, exponent))\n"
   ]
  },
  {
   "cell_type": "markdown",
   "metadata": {},
   "source": [
    "# Question 4, small difference between p and q"
   ]
  },
  {
   "cell_type": "code",
   "execution_count": 6,
   "metadata": {},
   "outputs": [
    {
     "name": "stdout",
     "output_type": "stream",
     "text": [
      "attack\n"
     ]
    }
   ],
   "source": [
    "DIFF = 5000\n",
    "import numpy as np\n",
    "def DecipherSmallDiff(c, n, e):\n",
    "\tupperBound = int(round(np.sqrt(n)))\n",
    "\tbottomBound = upperBound - DIFF\n",
    "\t# Try all integers between root(n) - r and root(n) as divisors of n \n",
    "\tfor i in range(bottomBound, upperBound+1):\n",
    "\t\tif n % i == 0:\n",
    "\t\t\tsmallerPrime = i\n",
    "\t\t\tbiggerPrime = n // i\n",
    "\t\t\treturn Decrypt(c, smallerPrime, biggerPrime, e)\n",
    "\treturn \"Failed to decrypt the message\"\n",
    "\n",
    "# question \n",
    "p = 1000000007\n",
    "q = 1000000009\n",
    "n = p * q\n",
    "e = 239\n",
    "ciphertext = Encrypt(\"attack\", n, e)\n",
    "message = DecipherSmallDiff(ciphertext, n, e)\n",
    "print(message)"
   ]
  },
  {
   "cell_type": "markdown",
   "metadata": {},
   "source": [
    "# Question 5, insufficient randomness"
   ]
  },
  {
   "cell_type": "code",
   "execution_count": 7,
   "metadata": {},
   "outputs": [
    {
     "name": "stdout",
     "output_type": "stream",
     "text": [
      "('attack', 'wait')\n"
     ]
    }
   ],
   "source": [
    "def DecipherCommonDivisor(c1, n1, e1, c2, n2, e2):\n",
    "  commonPrime = GCD(n1, n2)\n",
    "  q1 = n1 // commonPrime\n",
    "  q2 = n2 // commonPrime\n",
    "  msg1 = Decrypt(c1, commonPrime, q1, e1)\n",
    "  msg2 = Decrypt(c2, commonPrime, q2, e2)\n",
    "  return (msg1, msg2)\n",
    "\n",
    "\n",
    "# question \n",
    "p = 101\n",
    "q1 = 18298970732541109011012304219376080251334480295537316123696052970419466495220522723330315111017831737980079504337868198011077274303193766040393009648852841770668239779097280026631944319501437547002412556176186750790476901358334138818777298389724049250700606462316428106882097210008142941838672676714188593227684360287806974345181893018133710957167334490627178666071809992955566020058374505477745993383434501768887090900283569055646901291270870833498474402084748161755197005050874785474707550376333429671113753137201128897550014524209754619355308207537703754006699795711188492048286436285518105948050401762394690148387\n",
    "q2 = 1000000007\n",
    "first_modulo = p * q1\n",
    "second_modulo = p * q2\n",
    "first_exponent = 239\n",
    "second_exponent = 17\n",
    "first_ciphertext = Encrypt(\"attack\", first_modulo, first_exponent)\n",
    "second_ciphertext = Encrypt(\"wait\", second_modulo, second_exponent)\n",
    "print(DecipherCommonDivisor(first_ciphertext, first_modulo, first_exponent, second_ciphertext, second_modulo, second_exponent))\n"
   ]
  },
  {
   "cell_type": "markdown",
   "metadata": {},
   "source": [
    "# Question 6, Hastad's Attack (Broadcast the same message using the same exponent)"
   ]
  },
  {
   "cell_type": "code",
   "execution_count": 8,
   "metadata": {},
   "outputs": [
    {
     "name": "stdout",
     "output_type": "stream",
     "text": [
      "attack\n"
     ]
    }
   ],
   "source": [
    "def DecipherHastad(c1, n1, c2, n2, e):\n",
    "  r = chineseRemainderTheorem(n1, c1, n2, c2)\n",
    "  m = int(r**(e**-1))\n",
    "  # m = int(math.sqrt(r)) # r = m^2 in case e = 2\n",
    "  return ConvertToStr(m)\n",
    "\n",
    "# question \n",
    "p1 = 790383132652258876190399065097\n",
    "q1 = 662503581792812531719955475509\n",
    "p2 = 656917682542437675078478868539\n",
    "q2 = 1263581691331332127259083713503\n",
    "n1 = p1 * q1\n",
    "n2 = p2 * q2\n",
    "e = 2\n",
    "ciphertext1 = Encrypt(\"attack\", n1, e)\n",
    "ciphertext2 = Encrypt(\"attack\", n2, e)\n",
    "message = DecipherHastad(ciphertext1, n1, ciphertext2, n2, e)\n",
    "print(message)"
   ]
  },
  {
   "cell_type": "code",
   "execution_count": null,
   "metadata": {},
   "outputs": [],
   "source": []
  }
 ],
 "metadata": {
  "interpreter": {
   "hash": "55fd5ca179876acef9549041cbb1c15e8bec9319deb5ae4a3991fbbbce6be60f"
  },
  "kernelspec": {
   "display_name": "Python 3.9.6 64-bit",
   "language": "python",
   "name": "python3"
  },
  "language_info": {
   "codemirror_mode": {
    "name": "ipython",
    "version": 3
   },
   "file_extension": ".py",
   "mimetype": "text/x-python",
   "name": "python",
   "nbconvert_exporter": "python",
   "pygments_lexer": "ipython3",
   "version": "3.9.6"
  },
  "orig_nbformat": 4
 },
 "nbformat": 4,
 "nbformat_minor": 2
}
